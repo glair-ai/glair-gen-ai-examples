{
 "cells": [
  {
   "cell_type": "markdown",
   "metadata": {},
   "source": [
    "# Example Create Agent using Gen AI SDK"
   ]
  },
  {
   "cell_type": "markdown",
   "metadata": {},
   "source": [
    "**Authors**: \n",
    "- Muhammad Afif Al hawari (muhammad.a.a.hawari@gdplabs.id)\n",
    "\n",
    "**Reviewers**: \n",
    "- Villia Susanti (villia.susanti@gdplabs.id)"
   ]
  },
  {
   "cell_type": "markdown",
   "metadata": {},
   "source": [
    "## Summary\n",
    "In this Notebook we will try to create a sample agent using GenAI SDK and Open AI GPT 3.5. The Agent will use two tools, one is Search Tool which utilize google search API and multiplier tool which takes two numbers and multipliy them.\n",
    "\n",
    "## References\n",
    "- [Langchain Agent Docs](https://python.langchain.com/docs/modules/agents/)\n",
    "- [Gen AI Agent Orchestrator](https://docs.glair.ai/generative-internal/modules/agent-orchestrator)"
   ]
  },
  {
   "cell_type": "markdown",
   "metadata": {},
   "source": [
    "## Prepare Environment"
   ]
  },
  {
   "cell_type": "markdown",
   "metadata": {},
   "source": [
    "### Install Dependencies"
   ]
  },
  {
   "cell_type": "code",
   "execution_count": null,
   "metadata": {},
   "outputs": [],
   "source": [
    "pip install google-search-results"
   ]
  },
  {
   "cell_type": "markdown",
   "metadata": {},
   "source": [
    "### Install Gen AI SDK\n",
    "\n",
    "To install the SDK library, you need to create a personal access token on GitHub. Please follow these steps:\n",
    "1. You need to log in to your [GitHub Account](https://github.com/).\n",
    "2. Go to the [Personal Access Tokens](https://github.com/settings/tokens) page.\n",
    "3. If you haven't created a Personal Access Tokens yet, you can generate one.\n",
    "4. When generating a new token, make sure that you have checked the `repo` option to grant access to private repositories.\n",
    "5. Now, you can copy the new token that you have generated and paste it into the script below."
   ]
  },
  {
   "cell_type": "code",
   "execution_count": null,
   "metadata": {},
   "outputs": [],
   "source": [
    "import getpass\n",
    "import subprocess\n",
    "import sys\n",
    "import os\n",
    "\n",
    "def install_sdk_library():\n",
    "    token = getpass.getpass(\"Input Your Personal Access Token: \")\n",
    "\n",
    "    cmd = f\"pip install -e git+https://{token}@github.com:GDP-ADMIN/gen-ai-internal.git#egg=gdplabs_gen_ai\"\n",
    "\n",
    "    with subprocess.Popen(cmd, shell=True, stdout=subprocess.PIPE, stderr=subprocess.PIPE, text=True) as process:\n",
    "        stdout, stderr = process.communicate()\n",
    "\n",
    "        if process.returncode != 0:\n",
    "            sys.stdout.write(stderr)\n",
    "            raise subprocess.CalledProcessError(returncode=process.returncode, cmd=cmd)\n",
    "        else:\n",
    "            sys.stdout.write(stdout)\n",
    "\n",
    "install_sdk_library()"
   ]
  },
  {
   "cell_type": "markdown",
   "metadata": {},
   "source": [
    "### Add Environment Variable\n",
    "\n",
    "You will need two provide two API Keys. OpenAI API Key and SerpAPI API Key."
   ]
  },
  {
   "cell_type": "code",
   "execution_count": null,
   "metadata": {},
   "outputs": [],
   "source": [
    "os.environ[\"OPENAI_API_KEY\"] = getpass.getpass(\"OPENAI API KEY: \")\n",
    "os.environ[\"SERPAPI_API_KEY\"] = getpass.getpass(\"SERPERAI API KEY: \")"
   ]
  },
  {
   "cell_type": "markdown",
   "metadata": {},
   "source": [
    "## Create and execute Agent"
   ]
  },
  {
   "cell_type": "markdown",
   "metadata": {},
   "source": [
    "### Define Tools for the Agent\n",
    "\n",
    "In this section, we will create two tools that will be used for our agent determining the answer for the query/question given by user. \n",
    "1. `Search Tool` - Utilize Google search API to get additional information\n",
    "2. `Multiplier Tool` - Accept two numbers and return the result of their multiplication\n",
    "\n",
    "To define the tools, we use interface on Gen AI SDK. You can read more details on [Agent Tools](https://docs.glair.ai/generative-internal/modules/agent-orchestrator/tools)."
   ]
  },
  {
   "cell_type": "code",
   "execution_count": null,
   "metadata": {},
   "outputs": [],
   "source": [
    "from gdplabs_gen_ai.agent_orchestrator.agent_executor import initialize_agent_executor\n",
    "from gdplabs_gen_ai.agent_orchestrator.agent_type import AgentType\n",
    "from gdplabs_gen_ai.agent_orchestrator.tools import BaseTool\n",
    "from gdplabs_gen_ai.inference_orchestrator.llm import OpenAILLM\n",
    "from langchain.utilities import SerpAPIWrapper\n",
    "\n",
    "def parsing_multiplier(string):\n",
    "    a, b = string.split(\",\")\n",
    "    return multiplier(int(a), int(b))\n",
    "\n",
    "def multiplier(a, b):\n",
    "    return a * b\n",
    "\n",
    "search = SerpAPIWrapper()\n",
    "\n",
    "multiplier_tool = BaseTool(\n",
    "    name=\"Multiplier Search\",\n",
    "    func=parsing_multiplier,\n",
    "    description=\"useful for when you need to multiply two numbers together. The input to this tool should be a comma separated list of numbers of length two, representing the two numbers you want to multiply together. For example, `1,2` would be the input if you wanted to multiply 1 by 2.\"\n",
    ")\n",
    "\n",
    "search_tool = BaseTool(\n",
    "    func=search.run,\n",
    "    name=\"Search\",\n",
    "    description=\"useful for when you need to answer questions about current events\",\n",
    ")"
   ]
  },
  {
   "cell_type": "markdown",
   "metadata": {},
   "source": [
    "### Create Agent Executor"
   ]
  },
  {
   "cell_type": "code",
   "execution_count": null,
   "metadata": {},
   "outputs": [],
   "source": [
    "openai_llm = OpenAILLM(\"gpt-3.5-turbo\")\n",
    "\n",
    "agent_executor = initialize_agent_executor(\n",
    "    tools=[multiplier_tool, search_tool],\n",
    "    llm=openai_llm.llm,\n",
    "    verbose=True,\n",
    "    agent_type=AgentType.ZERO_SHOT_REACT_DESCRIPTION\n",
    ")"
   ]
  },
  {
   "cell_type": "markdown",
   "metadata": {},
   "source": [
    "### Execute Query on the Agent"
   ]
  },
  {
   "cell_type": "code",
   "execution_count": 7,
   "metadata": {},
   "outputs": [
    {
     "name": "stdout",
     "output_type": "stream",
     "text": [
      "\n",
      "\n",
      "\u001b[1m> Entering new AgentExecutor chain...\u001b[0m\n",
      "\u001b[32;1m\u001b[1;3mI need to find out Leo DiCaprio's girlfriend's name first, and then multiply her current age by 3.\n",
      "Action: Search\n",
      "Action Input: \"Leo DiCaprio girlfriend\"\u001b[0m\n",
      "Observation: \u001b[33;1m\u001b[1;3mVittoria Ceretti\u001b[0m\n",
      "Thought:\u001b[32;1m\u001b[1;3mNow that I know Leo DiCaprio's girlfriend's name, I can find out her current age.\n",
      "Action: Search\n",
      "Action Input: \"Vittoria Ceretti age\"\u001b[0m\n",
      "Observation: \u001b[33;1m\u001b[1;3m25 years\u001b[0m\n",
      "Thought:\u001b[32;1m\u001b[1;3mNow that I know Vittoria Ceretti's current age, I can multiply it by 3.\n",
      "Action: Multiplier Search\n",
      "Action Input: \"25,3\"\u001b[0m\n",
      "Observation: \u001b[36;1m\u001b[1;3m75\u001b[0m\n",
      "Thought:\u001b[32;1m\u001b[1;3mI now know the final answer\n",
      "Final Answer: Vittoria Ceretti's current age multiplied by 3 is 75.\u001b[0m\n",
      "\n",
      "\u001b[1m> Finished chain.\u001b[0m\n"
     ]
    },
    {
     "data": {
      "text/plain": [
       "\"Vittoria Ceretti's current age multiplied by 3 is 75.\""
      ]
     },
     "execution_count": 7,
     "metadata": {},
     "output_type": "execute_result"
    }
   ],
   "source": [
    "agent_executor.run_query(query=\"Who is Leo DiCaprio's girlfriend? What is her current age multiplied by 3?\")"
   ]
  }
 ],
 "metadata": {
  "kernelspec": {
   "display_name": "Python 3 (ipykernel)",
   "language": "python",
   "name": "python3"
  },
  "language_info": {
   "codemirror_mode": {
    "name": "ipython",
    "version": 3
   },
   "file_extension": ".py",
   "mimetype": "text/x-python",
   "name": "python",
   "nbconvert_exporter": "python",
   "pygments_lexer": "ipython3",
   "version": "3.11.4"
  }
 },
 "nbformat": 4,
 "nbformat_minor": 4
}
